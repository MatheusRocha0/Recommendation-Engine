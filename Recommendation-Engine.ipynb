{
  "nbformat": 4,
  "nbformat_minor": 0,
  "metadata": {
    "accelerator": "GPU",
    "colab": {
      "name": "Estudo.ipynb",
      "provenance": [],
      "collapsed_sections": [],
      "mount_file_id": "1dXK79ip6pd4LZsKSMICMkKc4-n05SRVB",
      "authorship_tag": "ABX9TyO8TTwrYzfDhgEr0F6YmeTs",
      "include_colab_link": true
    },
    "kernelspec": {
      "display_name": "Python 3",
      "name": "python3"
    }
  },
  "cells": [
    {
      "cell_type": "markdown",
      "metadata": {
        "id": "view-in-github",
        "colab_type": "text"
      },
      "source": [
        "<a href=\"https://colab.research.google.com/github/MatheusRocha0/Recommendation-Engine/blob/main/Recommendation-Engine.ipynb\" target=\"_parent\"><img src=\"https://colab.research.google.com/assets/colab-badge.svg\" alt=\"Open In Colab\"/></a>"
      ]
    },
    {
      "cell_type": "markdown",
      "metadata": {
        "id": "NFVaT-66TRFT"
      },
      "source": [
        " \n",
        "# Recommendation Engine\n",
        " \n",
        "YouTube, Amazon, Facebook and Instagram are some of the companies that use this kind of implemantation. This kind of project is the most commonly used Data Science application in the entire world. Some years ago, you would have to hire the best statisticians and mathematicians of the world to build a nice system. But nowadays with our advanced technology, anyone can build their own recommendation system.\n",
        " \n",
        "# Recommendation Engine Types\n",
        " \n",
        "There are basically three distinct types of reccomender systems:\n",
        " \n",
        "## Collaborative Filtering\n",
        " \n",
        "This filtering method is usually based on collecting and analyzing information on user’s behaviors, their activities or preferences and predicting what they will like based on the similarity with other users. A key advantage of the collaborative filtering approach is that it does not rely on machine analyzable content and thus it is capable of accurately recommending complex items such as movies without requiring an “understanding” of the item itself.\n",
        " \n",
        "## Content-Based Filtering\n",
        " \n",
        "These filtering methods are based on the description of an item and a profile of the user’s preferred choices. In a content-based recommendation system, keywords are used to describe the items; besides, a user profile is built to state the type of item this user likes.\n",
        " \n",
        "## Hybrid Recommendation Systems\n",
        " \n",
        "Recent research shows that combining collaborative and content-based recommendation can be more effective. Hybrid approaches can be implemented by making content-based and collaborative-based predictions separately and then combining them. Further, by adding content-based capabilities to a collaborative-based approach and vice versa; or by unifying the approaches into one model.\n",
        " \n",
        "### Scikit Surprise\n",
        "Surprise (stards for Simple Python Recommendation System Engine) is an easy-to-use Python scikit for recommender systems. This tool allows anyone to build Collaborative Filtering Reccomendation Engines easily using Python with few lines of code.\n",
        " \n",
        "# About the Project\n",
        " \n",
        "In this project, I am going to build a Recommendation Engine using Scikit-surprise library.\n",
        " \n",
        "# About the Dataset\n",
        " \n",
        "The dataset I will be using for this project is the Movielens Dataset. You can download it here: https://bit.ly/3qDOziX\n",
        " \n",
        "This dataset brings informations like: movie title, user id, movie id and movie genre. A perfect dataset example for training recommendation systems.\n",
        " \n",
        "# Importing\n",
        " \n",
        "## Installing Surprise"
      ]
    },
    {
      "cell_type": "code",
      "metadata": {
        "colab": {
          "base_uri": "https://localhost:8080/"
        },
        "id": "gPNVbXjrTrCe",
        "outputId": "c6a16082-d029-446c-fed1-44bfcd5b5f98"
      },
      "source": [
        "pip install scikit-surprise -q"
      ],
      "execution_count": 1,
      "outputs": [
        {
          "output_type": "stream",
          "text": [
            "\u001b[K     |████████████████████████████████| 11.8MB 232kB/s \n",
            "\u001b[?25h  Building wheel for scikit-surprise (setup.py) ... \u001b[?25l\u001b[?25hdone\n"
          ],
          "name": "stdout"
        }
      ]
    },
    {
      "cell_type": "markdown",
      "metadata": {
        "id": "g2bspw18T3nY"
      },
      "source": [
        "## Libraries"
      ]
    },
    {
      "cell_type": "code",
      "metadata": {
        "id": "YjaW-fz7T5UU"
      },
      "source": [
        " import pandas as pd\n",
        "import numpy as np\n",
        "import seaborn as sb\n",
        "import matplotlib.pyplot as plt\n",
        "from surprise import Reader, Dataset, SVDpp, accuracy\n",
        "from surprise.model_selection import train_test_split, cross_validate\n",
        "import pickle\n",
        "import requests"
      ],
      "execution_count": 2,
      "outputs": []
    },
    {
      "cell_type": "markdown",
      "metadata": {
        "id": "Y-ADdMSMT6Jz"
      },
      "source": [
        "## Importing The Data"
      ]
    },
    {
      "cell_type": "code",
      "metadata": {
        "colab": {
          "base_uri": "https://localhost:8080/",
          "height": 288
        },
        "id": "N_mA_nC7UB-9",
        "outputId": "275ef8bc-9cbd-4623-98eb-7e7b240e7a42"
      },
      "source": [
        " movies = pd.read_csv(\"https://raw.githubusercontent.com/MatheusRocha0/Recommendation_Engine/main/movies.csv\")\n",
        "ratings = pd.read_csv(\"https://raw.githubusercontent.com/MatheusRocha0/Recommendation_Engine/main/ratings.csv\")\n",
        " \n",
        "movies.drop(\"genres\", axis = 1, inplace = True)\n",
        "ratings.drop(\"timestamp\", axis = 1, inplace = True)\n",
        " \n",
        "data = pd.merge(ratings, movies, on = \"movieId\")\n",
        "data.head()"
      ],
      "execution_count": 3,
      "outputs": [
        {
          "output_type": "execute_result",
          "data": {
            "text/html": [
              "<div>\n",
              "<style scoped>\n",
              "    .dataframe tbody tr th:only-of-type {\n",
              "        vertical-align: middle;\n",
              "    }\n",
              "\n",
              "    .dataframe tbody tr th {\n",
              "        vertical-align: top;\n",
              "    }\n",
              "\n",
              "    .dataframe thead th {\n",
              "        text-align: right;\n",
              "    }\n",
              "</style>\n",
              "<table border=\"1\" class=\"dataframe\">\n",
              "  <thead>\n",
              "    <tr style=\"text-align: right;\">\n",
              "      <th></th>\n",
              "      <th>userId</th>\n",
              "      <th>movieId</th>\n",
              "      <th>rating</th>\n",
              "      <th>title</th>\n",
              "    </tr>\n",
              "  </thead>\n",
              "  <tbody>\n",
              "    <tr>\n",
              "      <th>0</th>\n",
              "      <td>1</td>\n",
              "      <td>1</td>\n",
              "      <td>4.0</td>\n",
              "      <td>Toy Story (1995)</td>\n",
              "    </tr>\n",
              "    <tr>\n",
              "      <th>1</th>\n",
              "      <td>5</td>\n",
              "      <td>1</td>\n",
              "      <td>4.0</td>\n",
              "      <td>Toy Story (1995)</td>\n",
              "    </tr>\n",
              "    <tr>\n",
              "      <th>2</th>\n",
              "      <td>7</td>\n",
              "      <td>1</td>\n",
              "      <td>4.5</td>\n",
              "      <td>Toy Story (1995)</td>\n",
              "    </tr>\n",
              "    <tr>\n",
              "      <th>3</th>\n",
              "      <td>15</td>\n",
              "      <td>1</td>\n",
              "      <td>2.5</td>\n",
              "      <td>Toy Story (1995)</td>\n",
              "    </tr>\n",
              "    <tr>\n",
              "      <th>4</th>\n",
              "      <td>17</td>\n",
              "      <td>1</td>\n",
              "      <td>4.5</td>\n",
              "      <td>Toy Story (1995)</td>\n",
              "    </tr>\n",
              "  </tbody>\n",
              "</table>\n",
              "</div>"
            ],
            "text/plain": [
              "   userId  movieId  rating             title\n",
              "0       1        1     4.0  Toy Story (1995)\n",
              "1       5        1     4.0  Toy Story (1995)\n",
              "2       7        1     4.5  Toy Story (1995)\n",
              "3      15        1     2.5  Toy Story (1995)\n",
              "4      17        1     4.5  Toy Story (1995)"
            ]
          },
          "metadata": {
            "tags": []
          },
          "execution_count": 3
        }
      ]
    },
    {
      "cell_type": "markdown",
      "metadata": {
        "id": "dJ3QCU5YUH0j"
      },
      "source": [
        "# Data Cleaning"
      ]
    },
    {
      "cell_type": "markdown",
      "metadata": {
        "id": "lrZpVU04UMHL"
      },
      "source": [
        "## Missing Values"
      ]
    },
    {
      "cell_type": "code",
      "metadata": {
        "colab": {
          "base_uri": "https://localhost:8080/"
        },
        "id": "tAr5QG3wUJLR",
        "outputId": "76f69c9d-7367-4d35-fb83-6a45e8f6193a"
      },
      "source": [
        "data.isnull().sum()"
      ],
      "execution_count": 4,
      "outputs": [
        {
          "output_type": "execute_result",
          "data": {
            "text/plain": [
              "userId     0\n",
              "movieId    0\n",
              "rating     0\n",
              "title      0\n",
              "dtype: int64"
            ]
          },
          "metadata": {
            "tags": []
          },
          "execution_count": 4
        }
      ]
    },
    {
      "cell_type": "markdown",
      "metadata": {
        "id": "RcGMuZkMUN88"
      },
      "source": [
        "## Drop Duplicates"
      ]
    },
    {
      "cell_type": "code",
      "metadata": {
        "id": "pIXpr_U8UPVn"
      },
      "source": [
        "data.drop_duplicates(inplace = True)"
      ],
      "execution_count": 5,
      "outputs": []
    },
    {
      "cell_type": "markdown",
      "metadata": {
        "id": "DwQDhltfUWKd"
      },
      "source": [
        "## Preprocessing the data"
      ]
    },
    {
      "cell_type": "code",
      "metadata": {
        "id": "BQwFLqOTUYOO"
      },
      "source": [
        " reader = Reader(rating_scale = (0.5, 5))\n",
        "dataset = Dataset.load_from_df(data.drop(\"title\", axis = 1), reader)"
      ],
      "execution_count": 6,
      "outputs": []
    },
    {
      "cell_type": "markdown",
      "metadata": {
        "id": "06uNjoBzUc2U"
      },
      "source": [
        "## Training set and Testing set"
      ]
    },
    {
      "cell_type": "code",
      "metadata": {
        "id": "lPJ70JJ0UhnW"
      },
      "source": [
        " train_set, test_set = train_test_split(dataset, test_size = .5)"
      ],
      "execution_count": 7,
      "outputs": []
    },
    {
      "cell_type": "markdown",
      "metadata": {
        "id": "bApC3fWDUnnP"
      },
      "source": [
        "# Machine Learning Model"
      ]
    },
    {
      "cell_type": "code",
      "metadata": {
        "colab": {
          "base_uri": "https://localhost:8080/"
        },
        "id": "20uJCCKXUqUm",
        "outputId": "cd3ab011-0100-4781-8397-4d0a79a5e162"
      },
      "source": [
        " engine = SVDpp(\n",
        "random_state = 1,\n",
        "n_epochs = 30,\n",
        "lr_all = .01,\n",
        "reg_all = .07\n",
        ")\n",
        " \n",
        "engine.fit(train_set)"
      ],
      "execution_count": 8,
      "outputs": [
        {
          "output_type": "execute_result",
          "data": {
            "text/plain": [
              "<surprise.prediction_algorithms.matrix_factorization.SVDpp at 0x7fb707446ad0>"
            ]
          },
          "metadata": {
            "tags": []
          },
          "execution_count": 8
        }
      ]
    },
    {
      "cell_type": "markdown",
      "metadata": {
        "id": "QN4ELRCEUv6I"
      },
      "source": [
        "## Evaluating the model"
      ]
    },
    {
      "cell_type": "code",
      "metadata": {
        "colab": {
          "base_uri": "https://localhost:8080/"
        },
        "id": "9sOnbyxyUyAb",
        "outputId": "c42c78d7-43ad-4109-a092-0974f531ec8e"
      },
      "source": [
        " p = engine.test(test_set)\n",
        "score = accuracy.rmse(p)"
      ],
      "execution_count": 9,
      "outputs": [
        {
          "output_type": "stream",
          "text": [
            "RMSE: 0.8777\n"
          ],
          "name": "stdout"
        }
      ]
    },
    {
      "cell_type": "markdown",
      "metadata": {
        "id": "ByF1LLGLditP"
      },
      "source": [
        "# Saving model"
      ]
    },
    {
      "cell_type": "code",
      "metadata": {
        "id": "Ahe8z2SufVSR"
      },
      "source": [
        " fileObj = open('model.pkl', 'wb')\n",
        "pickle.dump(engine,fileObj)\n",
        "fileObj.close()"
      ],
      "execution_count": 10,
      "outputs": []
    },
    {
      "cell_type": "markdown",
      "metadata": {
        "id": "3UWIOmd0eZ3l"
      },
      "source": [
        "# Loading Model"
      ]
    },
    {
      "cell_type": "code",
      "metadata": {
        "id": "FS5BhAPPfcNy"
      },
      "source": [
        " fileObj = open('model.pkl', 'rb')\n",
        "engine = pickle.load(fileObj)\n",
        "fileObj.close()"
      ],
      "execution_count": 11,
      "outputs": []
    },
    {
      "cell_type": "markdown",
      "metadata": {
        "id": "OU3Ss1uA8TKi"
      },
      "source": [
        "# API Requests"
      ]
    },
    {
      "cell_type": "code",
      "metadata": {
        "id": "JswSH-IYUfCv"
      },
      "source": [
        " sample = data.drop([\"rating\", \"title\"], axis = 1).sample()\n",
        "json = sample.to_json(orient = \"records\")"
      ],
      "execution_count": 12,
      "outputs": []
    },
    {
      "cell_type": "code",
      "metadata": {
        "id": "3cTe9wtqsmGC",
        "colab": {
          "base_uri": "https://localhost:8080/",
          "height": 79
        },
        "outputId": "7b8761fe-853c-49ce-a47d-c42dbf5a4cc1"
      },
      "source": [
        "url = \"https://api-recommendation-engine.herokuapp.com/\"\n",
        "data = json\n",
        "headers = {\"Content-type\": \"application/json\"}\n",
        " \n",
        "r = requests.post(url = url, data = data, headers = headers)\n",
        " \n",
        "df = pd.DataFrame(r.json(), columns = r.json()[0].keys())\n",
        "df"
      ],
      "execution_count": 16,
      "outputs": [
        {
          "output_type": "execute_result",
          "data": {
            "text/html": [
              "<div>\n",
              "<style scoped>\n",
              "    .dataframe tbody tr th:only-of-type {\n",
              "        vertical-align: middle;\n",
              "    }\n",
              "\n",
              "    .dataframe tbody tr th {\n",
              "        vertical-align: top;\n",
              "    }\n",
              "\n",
              "    .dataframe thead th {\n",
              "        text-align: right;\n",
              "    }\n",
              "</style>\n",
              "<table border=\"1\" class=\"dataframe\">\n",
              "  <thead>\n",
              "    <tr style=\"text-align: right;\">\n",
              "      <th></th>\n",
              "      <th>userId</th>\n",
              "      <th>movieId</th>\n",
              "      <th>user_rating</th>\n",
              "    </tr>\n",
              "  </thead>\n",
              "  <tbody>\n",
              "    <tr>\n",
              "      <th>0</th>\n",
              "      <td>438</td>\n",
              "      <td>1895</td>\n",
              "      <td>3.690591</td>\n",
              "    </tr>\n",
              "  </tbody>\n",
              "</table>\n",
              "</div>"
            ],
            "text/plain": [
              "   userId  movieId  user_rating\n",
              "0     438     1895     3.690591"
            ]
          },
          "metadata": {
            "tags": []
          },
          "execution_count": 16
        }
      ]
    }
  ]
}