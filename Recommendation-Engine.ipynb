{
  "nbformat": 4,
  "nbformat_minor": 0,
  "metadata": {
    "accelerator": "GPU",
    "colab": {
      "name": "Estudo.ipynb",
      "provenance": [],
      "collapsed_sections": [],
      "mount_file_id": "1dXK79ip6pd4LZsKSMICMkKc4-n05SRVB",
      "authorship_tag": "ABX9TyM+3yN8i+Lm14qstO4dQhuQ",
      "include_colab_link": true
    },
    "kernelspec": {
      "display_name": "Python 3",
      "name": "python3"
    }
  },
  "cells": [
    {
      "cell_type": "markdown",
      "metadata": {
        "id": "view-in-github",
        "colab_type": "text"
      },
      "source": [
        "<a href=\"https://colab.research.google.com/github/MatheusRocha0/Recommendation-Engine/blob/main/Recommendation-Engine.ipynb\" target=\"_parent\"><img src=\"https://colab.research.google.com/assets/colab-badge.svg\" alt=\"Open In Colab\"/></a>"
      ]
    },
    {
      "cell_type": "markdown",
      "metadata": {
        "id": "OW51A-bSD90G"
      },
      "source": [
        "# Machine Learning Project: Recommendation Engine\n",
        " \n",
        "YouTube, Amazon, Facebook and Instagram are some of the companies that use this kind of implemantation. This kind of project is the most commonly used Data Science application in the entire world. Some years ago, you would have to hire the best statisticians and mathematicians of the world to build a nice system. But nowadays with our advanced technology, anyone can build their own recommendation system.\n",
        " \n",
        "## Recommendation Engine Types\n",
        " \n",
        "There are basically three distinct types of reccomender systems:\n",
        " \n",
        "### Collaborative Filtering\n",
        " \n",
        "This filtering method is usually based on collecting and analyzing information on user’s behaviors, their activities or preferences and predicting what they will like based on the similarity with other users. A key advantage of the collaborative filtering approach is that it does not rely on machine analyzable content and thus it is capable of accurately recommending complex items such as movies without requiring an “understanding” of the item itself.\n",
        " \n",
        "### Content-Based Filtering\n",
        " \n",
        "These filtering methods are based on the description of an item and a profile of the user’s preferred choices. In a content-based recommendation system, keywords are used to describe the items; besides, a user profile is built to state the type of item this user likes.\n",
        " \n",
        "### Hybrid Recommendation Systems\n",
        " \n",
        "Recent research shows that combining collaborative and content-based recommendation can be more effective. Hybrid approaches can be implemented by making content-based and collaborative-based predictions separately and then combining them. Further, by adding content-based capabilities to a collaborative-based approach and vice versa; or by unifying the approaches into one model.\n",
        " \n",
        "#### Scikit Surprise\n",
        " \n",
        "Surprise (stands for Simple Python Recommendation System Engine) is an easy-to-use Python scikit for recommender systems. This tool allows anyone to build Collaborative Filtering Reccomendation Engines easily using Python with few lines of code.\n",
        " \n",
        "## About the Project\n",
        " \n",
        "### Fictional Context\n",
        " \n",
        "**Disclaimer**: the context I am going to present here is only for performance purposes. The CEO and the company only exist on my mind.\n",
        " \n",
        "The All in One Place is a company that offers streaming services, but their users average watching time is not enough for the CEO.\n",
        "Then he decided to hire me, a data science consultant, because he knew from friends that Data Science is helping many companies out there.\n",
        " \n",
        " I suggested to implement a Recommendation Engine into the platform, by doing this, the average time is going to get higher.\n",
        "After he agreed I had access to their customers database so I could start working in the project."
      ]
    },
    {
      "cell_type": "markdown",
      "metadata": {
        "id": "uYhUM74mEjiF"
      },
      "source": [
        "# 0.0 Preparation"
      ]
    },
    {
      "cell_type": "markdown",
      "metadata": {
        "id": "BBUc9rayEqJT"
      },
      "source": [
        "## 0.1 Installs"
      ]
    },
    {
      "cell_type": "code",
      "metadata": {
        "colab": {
          "base_uri": "https://localhost:8080/"
        },
        "id": "4V2W55rQEvPY",
        "outputId": "994213f3-e3d1-451a-c440-65ef5f33ad59"
      },
      "source": [
        "pip install scikit-surprise -q"
      ],
      "execution_count": null,
      "outputs": [
        {
          "output_type": "stream",
          "text": [
            "\u001b[K     |████████████████████████████████| 11.8MB 228kB/s \n",
            "\u001b[?25h  Building wheel for scikit-surprise (setup.py) ... \u001b[?25l\u001b[?25hdone\n"
          ],
          "name": "stdout"
        }
      ]
    },
    {
      "cell_type": "markdown",
      "metadata": {
        "id": "fPepf2aEElzO"
      },
      "source": [
        "## 0.2 Packages"
      ]
    },
    {
      "cell_type": "code",
      "metadata": {
        "id": "wGKuzUZ2Dt0s"
      },
      "source": [
        "import matplotlib.pyplot as plt\n",
        "import pandas as pd\n",
        "import requests\n",
        "import pickle\n",
        " \n",
        "from surprise import Reader, Dataset, SVDpp, accuracy\n",
        "from surprise.model_selection import train_test_split"
      ],
      "execution_count": null,
      "outputs": []
    },
    {
      "cell_type": "markdown",
      "metadata": {
        "id": "tIo19IYKEsZe"
      },
      "source": [
        "## 0.3 Loading data"
      ]
    },
    {
      "cell_type": "code",
      "metadata": {
        "colab": {
          "base_uri": "https://localhost:8080/",
          "height": 288
        },
        "id": "2OlXX8I2Eig-",
        "outputId": "add9689a-aaaa-41e6-9919-74daf405b51f"
      },
      "source": [
        "movies = pd.read_csv(\"https://raw.githubusercontent.com/MatheusRocha0/Recommendation_Engine/main/movies.csv\")\n",
        "ratings = pd.read_csv(\"https://raw.githubusercontent.com/MatheusRocha0/Recommendation_Engine/main/ratings.csv\")\n",
        " \n",
        "movies.drop(\"genres\", axis = 1, inplace = True)\n",
        "ratings.drop(\"timestamp\", axis = 1, inplace = True)\n",
        " \n",
        "data = pd.merge(ratings, movies, on = \"movieId\")\n",
        "data.head()"
      ],
      "execution_count": null,
      "outputs": [
        {
          "output_type": "execute_result",
          "data": {
            "text/html": [
              "<div>\n",
              "<style scoped>\n",
              "    .dataframe tbody tr th:only-of-type {\n",
              "        vertical-align: middle;\n",
              "    }\n",
              "\n",
              "    .dataframe tbody tr th {\n",
              "        vertical-align: top;\n",
              "    }\n",
              "\n",
              "    .dataframe thead th {\n",
              "        text-align: right;\n",
              "    }\n",
              "</style>\n",
              "<table border=\"1\" class=\"dataframe\">\n",
              "  <thead>\n",
              "    <tr style=\"text-align: right;\">\n",
              "      <th></th>\n",
              "      <th>userId</th>\n",
              "      <th>movieId</th>\n",
              "      <th>rating</th>\n",
              "      <th>title</th>\n",
              "    </tr>\n",
              "  </thead>\n",
              "  <tbody>\n",
              "    <tr>\n",
              "      <th>0</th>\n",
              "      <td>1</td>\n",
              "      <td>1</td>\n",
              "      <td>4.0</td>\n",
              "      <td>Toy Story (1995)</td>\n",
              "    </tr>\n",
              "    <tr>\n",
              "      <th>1</th>\n",
              "      <td>5</td>\n",
              "      <td>1</td>\n",
              "      <td>4.0</td>\n",
              "      <td>Toy Story (1995)</td>\n",
              "    </tr>\n",
              "    <tr>\n",
              "      <th>2</th>\n",
              "      <td>7</td>\n",
              "      <td>1</td>\n",
              "      <td>4.5</td>\n",
              "      <td>Toy Story (1995)</td>\n",
              "    </tr>\n",
              "    <tr>\n",
              "      <th>3</th>\n",
              "      <td>15</td>\n",
              "      <td>1</td>\n",
              "      <td>2.5</td>\n",
              "      <td>Toy Story (1995)</td>\n",
              "    </tr>\n",
              "    <tr>\n",
              "      <th>4</th>\n",
              "      <td>17</td>\n",
              "      <td>1</td>\n",
              "      <td>4.5</td>\n",
              "      <td>Toy Story (1995)</td>\n",
              "    </tr>\n",
              "  </tbody>\n",
              "</table>\n",
              "</div>"
            ],
            "text/plain": [
              "   userId  movieId  rating             title\n",
              "0       1        1     4.0  Toy Story (1995)\n",
              "1       5        1     4.0  Toy Story (1995)\n",
              "2       7        1     4.5  Toy Story (1995)\n",
              "3      15        1     2.5  Toy Story (1995)\n",
              "4      17        1     4.5  Toy Story (1995)"
            ]
          },
          "metadata": {
            "tags": []
          },
          "execution_count": 40
        }
      ]
    },
    {
      "cell_type": "markdown",
      "metadata": {
        "id": "QcBm2unGISPq"
      },
      "source": [
        "## 0.4 Helper functions\n",
        " \n",
        "Here go my functions"
      ]
    },
    {
      "cell_type": "code",
      "metadata": {
        "id": "UUTre3nVIZtq"
      },
      "source": [
        "def preprocess():\n",
        "   reader = Reader(rating_scale = (0.5, 5))\n",
        "   dataset = Dataset.load_from_df(data.drop(\"title\", axis = 1), reader)\n",
        " \n",
        "   train_set, test_set = train_test_split(dataset, test_size = .5)  \n",
        "   return train_set, test_set\n",
        " \n",
        "def api_request(sample):\n",
        " \n",
        "   json = sample.to_json(orient = \"records\")\n",
        " \n",
        "   url = \"https://api-recommendation-engine.herokuapp.com/\"\n",
        "   data_ = json\n",
        "   headers = {\"Content-type\": \"application/json\"}\n",
        " \n",
        "   r = requests.post(url = url, data = data_, headers = headers)\n",
        " \n",
        "   df = pd.DataFrame(r.json(), columns = r.json()[0].keys())\n",
        "   return df"
      ],
      "execution_count": null,
      "outputs": []
    },
    {
      "cell_type": "markdown",
      "metadata": {
        "id": "QlgiGztVE3e1"
      },
      "source": [
        "# 1.0 Data Cleaning\n",
        " \n",
        "It is necessary to clean things from the dataset like: missing values, outliers, duplicates, etc.\n",
        "\n",
        "Because it can affect the model's performance."
      ]
    },
    {
      "cell_type": "markdown",
      "metadata": {
        "id": "AnK6Ds3fFGQm"
      },
      "source": [
        "## 1.1 Treating Missing Values"
      ]
    },
    {
      "cell_type": "code",
      "metadata": {
        "colab": {
          "base_uri": "https://localhost:8080/"
        },
        "id": "OPgMPwRbFI-X",
        "outputId": "2608d867-4095-4819-b2c9-9ff5f87b5cc7"
      },
      "source": [
        "print(\"What is the number of missing values in each variable?\")\n",
        "print(\"Variable | Missing values:\")\n",
        "data.isnull().sum()"
      ],
      "execution_count": null,
      "outputs": [
        {
          "output_type": "stream",
          "text": [
            "What is the number of missing values in each variable?\n",
            "Variable | Missing values:\n"
          ],
          "name": "stdout"
        },
        {
          "output_type": "execute_result",
          "data": {
            "text/plain": [
              "userId     0\n",
              "movieId    0\n",
              "rating     0\n",
              "title      0\n",
              "dtype: int64"
            ]
          },
          "metadata": {
            "tags": []
          },
          "execution_count": 45
        }
      ]
    },
    {
      "cell_type": "markdown",
      "metadata": {
        "id": "gHsXtyD0FZlj"
      },
      "source": [
        "## 1.2 Treating Duplicates"
      ]
    },
    {
      "cell_type": "code",
      "metadata": {
        "id": "u8otp-kdFbtr"
      },
      "source": [
        "data.drop_duplicates(inplace = True)"
      ],
      "execution_count": null,
      "outputs": []
    },
    {
      "cell_type": "markdown",
      "metadata": {
        "id": "_-rl2zY6FhU3"
      },
      "source": [
        "## 1.3 Treating Outliers\n",
        " \n",
        "First of all it is necessary to know the 2 types of outliers: natural ones and artificial ones.\n",
        " \n",
        "Artificial outliers can happen for many causes, like a typing error for example.\n",
        " \n",
        "Natural outliers is a not common phenomenon that can be observed in real world.\n",
        " \n",
        "But both can affect a machine learning model, that is why I have to exclude them.\n",
        " \n",
        "### 1.3.1 Using boxplot to detect outliers\n",
        " \n",
        "Boxplot is a chart that shows outliers as black points out of a box. But the only variable we need to do it is the Rating variable."
      ]
    },
    {
      "cell_type": "code",
      "metadata": {
        "colab": {
          "base_uri": "https://localhost:8080/",
          "height": 320
        },
        "id": "zLNBwlBYFusc",
        "outputId": "b3646e3a-75b3-4c62-cd23-b03fef295e41"
      },
      "source": [
        "data[[\"rating\"]].boxplot(figsize = (15, 15))\n",
        "plt.show()"
      ],
      "execution_count": null,
      "outputs": [
        {
          "output_type": "display_data",
          "data": {
            "image/png": "[encoded data removed]",
            "text/plain": [
              "<Figure size 1080x1080 with 1 Axes>"
            ]
          },
          "metadata": {
            "tags": []
          }
        }
      ]
    },
    {
      "cell_type": "markdown",
      "metadata": {
        "id": "rIxSyagXGrHS"
      },
      "source": [
        "Even the chart showing black points we can not consider them as outliers, since they are in the range of the variable."
      ]
    },
    {
      "cell_type": "markdown",
      "metadata": {
        "id": "LDo3FU1dG4ar"
      },
      "source": [
        "# 2.0 Machine Learning model\n",
        " \n",
        "Since our dataset seems to be clean we can now start working in the ML model. But before going to the coding part it is necessary to explain how this model will work.\n",
        " \n",
        "This model will take 2 parameters: item id and user id. After this it will calculate how the user will rate the movie. It does it by analyzing how other similar users rated the same movie.\n",
        " \n",
        "This model works like a classic regression algorithm."
      ]
    },
    {
      "cell_type": "markdown",
      "metadata": {
        "id": "NCk9Ag_pHl96"
      },
      "source": [
        "## 2.1 Preparing the data\n",
        " \n",
        "Before training the model it is necessary to apply some preprocessing methods to the data because the algotithms from Scikit Surprise need it."
      ]
    },
    {
      "cell_type": "code",
      "metadata": {
        "id": "UVCuNaaoH03n"
      },
      "source": [
        "train_set, test_set = preprocess()"
      ],
      "execution_count": null,
      "outputs": []
    },
    {
      "cell_type": "markdown",
      "metadata": {
        "id": "zIWO24QxIt5j"
      },
      "source": [
        "## 2.2 Training a model\n",
        " \n",
        "Surprise provides many algorithms, but it is possible to see in the documentation that there is an algorithm that has a better performance than others, the SVD++ algorithm."
      ]
    },
    {
      "cell_type": "code",
      "metadata": {
        "colab": {
          "base_uri": "https://localhost:8080/"
        },
        "id": "L5mywnysJLDS",
        "outputId": "f2ab01b9-a328-4c09-9291-c9884076f2be"
      },
      "source": [
        "engine = SVDpp(\n",
        "random_state = 1,\n",
        "n_epochs = 30,\n",
        "lr_all = .01,\n",
        "reg_all = .07\n",
        ")\n",
        " \n",
        "engine.fit(train_set)"
      ],
      "execution_count": null,
      "outputs": [
        {
          "output_type": "execute_result",
          "data": {
            "text/plain": [
              "<surprise.prediction_algorithms.matrix_factorization.SVDpp at 0x7fce7140e950>"
            ]
          },
          "metadata": {
            "tags": []
          },
          "execution_count": 61
        }
      ]
    },
    {
      "cell_type": "markdown",
      "metadata": {
        "id": "WOOZpKuoKYnS"
      },
      "source": [
        "## 2.3 Evaluating the model\n",
        " \n",
        "Now I will use an evaluation metric to know how good this model really is.\n",
        " \n",
        "There are many metrics data scientists can use, dozens of them. But the first thing we must know is that there are specific metrics for specific problems, in this case we have to use Regression metrics.\n",
        " \n",
        "I chose RMSE (root mean squared error): is the standard deviation of the errors which occur when a prediction is made on a dataset. As any other regression metric, the smaller the better."
      ]
    },
    {
      "cell_type": "code",
      "metadata": {
        "colab": {
          "base_uri": "https://localhost:8080/"
        },
        "id": "39qYCXdOKbH5",
        "outputId": "391411a4-2b49-40c1-9dc6-32f3df5542ab"
      },
      "source": [
        " p = engine.test(test_set)\n",
        "score = accuracy.rmse(p)"
      ],
      "execution_count": null,
      "outputs": [
        {
          "output_type": "stream",
          "text": [
            "RMSE: 0.8765\n"
          ],
          "name": "stdout"
        }
      ]
    },
    {
      "cell_type": "markdown",
      "metadata": {
        "id": "LHPG2JRYMqBV"
      },
      "source": [
        "Considering our problem 0.87 of error is good."
      ]
    },
    {
      "cell_type": "markdown",
      "metadata": {
        "id": "RkxHbChGKdOY"
      },
      "source": [
        "## 2.4 Saving the model"
      ]
    },
    {
      "cell_type": "code",
      "metadata": {
        "id": "FAkP31t0KfZc"
      },
      "source": [
        "fileObj = open('model.pkl', 'wb')\n",
        "pickle.dump(engine,fileObj)\n",
        "fileObj.close()"
      ],
      "execution_count": null,
      "outputs": []
    },
    {
      "cell_type": "markdown",
      "metadata": {
        "id": "ZYtz8_KHKjBq"
      },
      "source": [
        "# 3.0 API requests\n",
        " \n",
        "After I saved the model I could start building my API. I did it using Flask and deployed with Heroku.\n",
        " \n",
        "It is necessary because now external machines can access this data science solution.\n",
        "\n",
        "Make yourself at home to make some requests if you want.\n",
        " \n",
        "It is now very simple to get predictions made by the model using Python:"
      ]
    },
    {
      "cell_type": "code",
      "metadata": {
        "colab": {
          "base_uri": "https://localhost:8080/",
          "height": 79
        },
        "id": "tXdzmUUcKnY8",
        "outputId": "ed9da88b-b600-4280-a2d5-2f030a12e44a"
      },
      "source": [
        "sample = data.drop([\"rating\", \"title\"], axis = 1).sample()\n",
        "api_request(sample)"
      ],
      "execution_count": null,
      "outputs": [
        {
          "output_type": "execute_result",
          "data": {
            "text/html": [
              "<div>\n",
              "<style scoped>\n",
              "    .dataframe tbody tr th:only-of-type {\n",
              "        vertical-align: middle;\n",
              "    }\n",
              "\n",
              "    .dataframe tbody tr th {\n",
              "        vertical-align: top;\n",
              "    }\n",
              "\n",
              "    .dataframe thead th {\n",
              "        text-align: right;\n",
              "    }\n",
              "</style>\n",
              "<table border=\"1\" class=\"dataframe\">\n",
              "  <thead>\n",
              "    <tr style=\"text-align: right;\">\n",
              "      <th></th>\n",
              "      <th>userId</th>\n",
              "      <th>movieId</th>\n",
              "      <th>user_rating</th>\n",
              "    </tr>\n",
              "  </thead>\n",
              "  <tbody>\n",
              "    <tr>\n",
              "      <th>0</th>\n",
              "      <td>564</td>\n",
              "      <td>94677</td>\n",
              "      <td>3.979293</td>\n",
              "    </tr>\n",
              "  </tbody>\n",
              "</table>\n",
              "</div>"
            ],
            "text/plain": [
              "   userId  movieId  user_rating\n",
              "0     564    94677     3.979293"
            ]
          },
          "metadata": {
            "tags": []
          },
          "execution_count": 69
        }
      ]
    },
    {
      "cell_type": "markdown",
      "metadata": {
        "id": "-HotooN3NPQx"
      },
      "source": [
        "## 3.1 Interpretation:\n",
        " \n",
        "user_rating is the rating value"
      ]
    },
    {
      "cell_type": "markdown",
      "metadata": {
        "id": "6lNnnLFFLCgk"
      },
      "source": [
        "# **That's All**"
      ]
    }
  ]
}