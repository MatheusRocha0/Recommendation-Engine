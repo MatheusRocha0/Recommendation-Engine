{
  "nbformat": 4,
  "nbformat_minor": 0,
  "metadata": {
    "accelerator": "GPU",
    "colab": {
      "name": "Estudo.ipynb",
      "provenance": [],
      "collapsed_sections": [],
      "mount_file_id": "1dXK79ip6pd4LZsKSMICMkKc4-n05SRVB",
      "authorship_tag": "ABX9TyPJTluiHldorngi+P38VZZV",
      "include_colab_link": true
    },
    "kernelspec": {
      "display_name": "Python 3",
      "name": "python3"
    }
  },
  "cells": [
    {
      "cell_type": "markdown",
      "metadata": {
        "id": "view-in-github",
        "colab_type": "text"
      },
      "source": [
        "<a href=\"https://colab.research.google.com/github/MatheusRocha0/Recommendation-Engine/blob/main/Recommendation-Engine.ipynb\" target=\"_parent\"><img src=\"https://colab.research.google.com/assets/colab-badge.svg\" alt=\"Open In Colab\"/></a>"
      ]
    },
    {
      "cell_type": "markdown",
      "metadata": {
        "id": "vYS40PuY8Wql"
      },
      "source": [
        " # Data Science Project: Recommendation Engine\n",
        " \n",
        "YouTube, Amazon, Facebook and Instagram are some of the companies that use this kind of implemantation. This kind of project is the most commonly used Data Science application in the entire world. Some years ago, you would have to hire the best statisticians and mathematicians of the world to build a nice system. But nowadays with our advanced technology, anyone can build their own recommendation system.\n",
        " \n",
        "# Recommendation Engine Types\n",
        " \n",
        "There are basically three distinct types of reccomender systems:\n",
        " \n",
        "## Collaborative Filtering\n",
        " \n",
        "This filtering method is usually based on collecting and analyzing information on user’s behaviors, their activities or preferences and predicting what they will like based on the similarity with other users. A key advantage of the collaborative filtering approach is that it does not rely on machine analyzable content and thus it is capable of accurately recommending complex items such as movies without requiring an “understanding” of the item itself.\n",
        " \n",
        "## Content-Based Filtering\n",
        " \n",
        "These filtering methods are based on the description of an item and a profile of the user’s preferred choices. In a content-based recommendation system, keywords are used to describe the items; besides, a user profile is built to state the type of item this user likes.\n",
        " \n",
        "## Hybrid Recommendation Systems\n",
        " \n",
        "Recent research shows that combining collaborative and content-based recommendation can be more effective. Hybrid approaches can be implemented by making content-based and collaborative-based predictions separately and then combining them. Further, by adding content-based capabilities to a collaborative-based approach and vice versa; or by unifying the approaches into one model.\n",
        " \n",
        "## Scikit Surprise\n",
        " \n",
        "Surprise (stands for Simple Python Recommendation System Engine) is an easy-to-use Python scikit for recommender systems. This tool allows anyone to build Collaborative Filtering Reccomendation Engines easily using Python with few lines of code.\n",
        " \n",
        "# About the Project\n",
        " \n",
        "## Fictional Context\n",
        " \n",
        "**Disclaimer: the context I am going to present here is only for performance purposes. The CEO and the company only exist on my mind.**\n",
        " \n",
        "The All in One Place is a company that offers streaming services, but their users average watching time is not enough for the CEO.\n",
        " \n",
        "Then he decided to hire me, a data science consultant, because he knew from friends that Data Science is helping many companies out there. I suggested to implement a Recommendation Engine into the platform, by doing this, the average time is going to get higher. \n",
        "\n",
        "After he agreed I had access to their customers database so I could start working in the project.\n",
        " \n",
        "## Data\n",
        " \n",
        "You can download the data I will be using in the project here: https://bit.ly/3qDOziX"
      ]
    },
    {
      "cell_type": "markdown",
      "metadata": {
        "id": "cffaOAtf-HX_"
      },
      "source": [
        "# Libraries (Tools)"
      ]
    },
    {
      "cell_type": "code",
      "metadata": {
        "id": "sn9HGh3q-ROI"
      },
      "source": [
        "pip install scikit-surprise -q"
      ],
      "execution_count": null,
      "outputs": []
    },
    {
      "cell_type": "code",
      "metadata": {
        "id": "TX14uz7T71-z"
      },
      "source": [
        "# Data manipulation\n",
        " import pandas as pd\n",
        " \n",
        "# Mathematics\n",
        "import numpy as np\n",
        " \n",
        "# Recommendation System\n",
        "from surprise import Reader, Dataset, SVDpp, accuracy\n",
        "from surprise.model_selection import train_test_split, cross_validate\n",
        " \n",
        "# Save the model\n",
        "import pickle\n",
        " \n",
        "# Make APi requests\n",
        "import requests"
      ],
      "execution_count": 48,
      "outputs": []
    },
    {
      "cell_type": "markdown",
      "metadata": {
        "id": "MUxAdt1Y-ZMQ"
      },
      "source": [
        "## Importing data"
      ]
    },
    {
      "cell_type": "code",
      "metadata": {
        "colab": {
          "base_uri": "https://localhost:8080/",
          "height": 288
        },
        "id": "Mc7lqF7X-Vmx",
        "outputId": "d68d4d66-1d46-4cb3-8a12-2c77fafbc0fb"
      },
      "source": [
        "movies = pd.read_csv(\"https://raw.githubusercontent.com/MatheusRocha0/Recommendation_Engine/main/movies.csv\")\n",
        "ratings = pd.read_csv(\"https://raw.githubusercontent.com/MatheusRocha0/Recommendation_Engine/main/ratings.csv\")\n",
        " \n",
        "movies.drop(\"genres\", axis = 1, inplace = True)\n",
        "ratings.drop(\"timestamp\", axis = 1, inplace = True)\n",
        " \n",
        "data = pd.merge(ratings, movies, on = \"movieId\")\n",
        "data.head()"
      ],
      "execution_count": 63,
      "outputs": [
        {
          "output_type": "execute_result",
          "data": {
            "text/html": [
              "<div>\n",
              "<style scoped>\n",
              "    .dataframe tbody tr th:only-of-type {\n",
              "        vertical-align: middle;\n",
              "    }\n",
              "\n",
              "    .dataframe tbody tr th {\n",
              "        vertical-align: top;\n",
              "    }\n",
              "\n",
              "    .dataframe thead th {\n",
              "        text-align: right;\n",
              "    }\n",
              "</style>\n",
              "<table border=\"1\" class=\"dataframe\">\n",
              "  <thead>\n",
              "    <tr style=\"text-align: right;\">\n",
              "      <th></th>\n",
              "      <th>userId</th>\n",
              "      <th>movieId</th>\n",
              "      <th>rating</th>\n",
              "      <th>title</th>\n",
              "    </tr>\n",
              "  </thead>\n",
              "  <tbody>\n",
              "    <tr>\n",
              "      <th>0</th>\n",
              "      <td>1</td>\n",
              "      <td>1</td>\n",
              "      <td>4.0</td>\n",
              "      <td>Toy Story (1995)</td>\n",
              "    </tr>\n",
              "    <tr>\n",
              "      <th>1</th>\n",
              "      <td>5</td>\n",
              "      <td>1</td>\n",
              "      <td>4.0</td>\n",
              "      <td>Toy Story (1995)</td>\n",
              "    </tr>\n",
              "    <tr>\n",
              "      <th>2</th>\n",
              "      <td>7</td>\n",
              "      <td>1</td>\n",
              "      <td>4.5</td>\n",
              "      <td>Toy Story (1995)</td>\n",
              "    </tr>\n",
              "    <tr>\n",
              "      <th>3</th>\n",
              "      <td>15</td>\n",
              "      <td>1</td>\n",
              "      <td>2.5</td>\n",
              "      <td>Toy Story (1995)</td>\n",
              "    </tr>\n",
              "    <tr>\n",
              "      <th>4</th>\n",
              "      <td>17</td>\n",
              "      <td>1</td>\n",
              "      <td>4.5</td>\n",
              "      <td>Toy Story (1995)</td>\n",
              "    </tr>\n",
              "  </tbody>\n",
              "</table>\n",
              "</div>"
            ],
            "text/plain": [
              "   userId  movieId  rating             title\n",
              "0       1        1     4.0  Toy Story (1995)\n",
              "1       5        1     4.0  Toy Story (1995)\n",
              "2       7        1     4.5  Toy Story (1995)\n",
              "3      15        1     2.5  Toy Story (1995)\n",
              "4      17        1     4.5  Toy Story (1995)"
            ]
          },
          "metadata": {
            "tags": []
          },
          "execution_count": 63
        }
      ]
    },
    {
      "cell_type": "markdown",
      "metadata": {
        "id": "hiBo9AFW-e9h"
      },
      "source": [
        "# Data Cleaning\n",
        " \n",
        "It is important to verify if the data is clean, otherwise it is necessary to perform what we call Data Cleaning. In this process we remove outliers, treat missing values and etc.\n",
        " \n",
        "It is necessary because noises in the data may affect the model's performance."
      ]
    },
    {
      "cell_type": "markdown",
      "metadata": {
        "id": "YHdrc2y1-5TQ"
      },
      "source": [
        "## Missing Values"
      ]
    },
    {
      "cell_type": "code",
      "metadata": {
        "colab": {
          "base_uri": "https://localhost:8080/"
        },
        "id": "MInmu4P3-2QE",
        "outputId": "8b17c40c-69cb-4827-a9f6-66a40051372c"
      },
      "source": [
        "data.isnull().sum()"
      ],
      "execution_count": 64,
      "outputs": [
        {
          "output_type": "execute_result",
          "data": {
            "text/plain": [
              "userId     0\n",
              "movieId    0\n",
              "rating     0\n",
              "title      0\n",
              "dtype: int64"
            ]
          },
          "metadata": {
            "tags": []
          },
          "execution_count": 64
        }
      ]
    },
    {
      "cell_type": "markdown",
      "metadata": {
        "id": "7NO1GWYu-9Wx"
      },
      "source": [
        "There is no any missing value in data."
      ]
    },
    {
      "cell_type": "markdown",
      "metadata": {
        "id": "oRjd6OuT_Am7"
      },
      "source": [
        " ## Drop Duplicates"
      ]
    },
    {
      "cell_type": "code",
      "metadata": {
        "id": "qkVg201__ESh"
      },
      "source": [
        "data.drop_duplicates(inplace = True)"
      ],
      "execution_count": 65,
      "outputs": []
    },
    {
      "cell_type": "markdown",
      "metadata": {
        "id": "Js9RVpXj_ncW"
      },
      "source": [
        "## Transforming the dataframe into Surprise Dataset\n",
        "\n",
        "Surprise does not accept Pandas Dataframes, so it is necessary to convert it into an acceptable format."
      ]
    },
    {
      "cell_type": "code",
      "metadata": {
        "id": "QK3IJJgl_vTL"
      },
      "source": [
        " reader = Reader(rating_scale = (0.5, 5))\n",
        "dataset = Dataset.load_from_df(data.drop(\"title\", axis = 1), reader)"
      ],
      "execution_count": 54,
      "outputs": []
    },
    {
      "cell_type": "markdown",
      "metadata": {
        "id": "RIQ86ssA_J1L"
      },
      "source": [
        " ## Splitting the data into Training and Testing sets\n",
        "\n",
        "It makes possible to train and evaluate the model."
      ]
    },
    {
      "cell_type": "code",
      "metadata": {
        "id": "vd-90dAH_gFZ"
      },
      "source": [
        "train_set, test_set = train_test_split(dataset, test_size = .5)"
      ],
      "execution_count": 55,
      "outputs": []
    },
    {
      "cell_type": "markdown",
      "metadata": {
        "id": "dJOzIWrSAm5h"
      },
      "source": [
        "# Machine Learning Model\n",
        " \n",
        "The model will take the user ID and the item/movie ID as input and will return how the user will rate this movie. The model makes it by analyzing how other similar users rated this same item.\n",
        " \n",
        "There are many algorithms I could use here, but this one (SVD++) presented the best performance in the tests."
      ]
    },
    {
      "cell_type": "code",
      "metadata": {
        "id": "wsIyFqlzAzyg"
      },
      "source": [
        "engine = SVDpp(\n",
        "random_state = 1,\n",
        "n_epochs = 30,\n",
        "lr_all = .01,\n",
        "reg_all = .07\n",
        ")\n",
        " \n",
        "engine.fit(train_set)"
      ],
      "execution_count": null,
      "outputs": []
    },
    {
      "cell_type": "markdown",
      "metadata": {
        "id": "srluDLsuA8Cd"
      },
      "source": [
        "## Evaluating the model\n",
        " \n",
        "Now, it is time to evaluate the model. In Data Science we use metrics, that are numeric values that represent how the model interpreted the data.\n",
        " \n",
        "In this case I am using the Root Mean Squared Error, a Regression metric, here, the smaller the better.\n",
        " \n",
        "We must remember that the target variable we used here is the Rating column, that have values that may vary from 0 to 5, and this is important when we interpret the results."
      ]
    },
    {
      "cell_type": "code",
      "metadata": {
        "colab": {
          "base_uri": "https://localhost:8080/"
        },
        "id": "ttvJLGAAA9s8",
        "outputId": "a5df497b-d9ff-4737-9ef9-d150acf78bb8"
      },
      "source": [
        " p = engine.test(test_set)\n",
        "score = accuracy.rmse(p)"
      ],
      "execution_count": 58,
      "outputs": [
        {
          "output_type": "stream",
          "text": [
            "RMSE: 0.8795\n"
          ],
          "name": "stdout"
        }
      ]
    },
    {
      "cell_type": "markdown",
      "metadata": {
        "id": "bTPlmOMLGiMc"
      },
      "source": [
        "0.8795 of error is very good considering the context."
      ]
    },
    {
      "cell_type": "markdown",
      "metadata": {
        "id": "PeMqdKirBbCC"
      },
      "source": [
        "## Saving the model to build the API\n",
        " \n",
        "But none model will help the business by staying in the local machine, we must save the model into a file then we can create and API to make requests."
      ]
    },
    {
      "cell_type": "code",
      "metadata": {
        "id": "sqL0wPMwBhy5"
      },
      "source": [
        "fileObj = open('model.pkl', 'wb')\n",
        "pickle.dump(engine,fileObj)\n",
        "fileObj.close()"
      ],
      "execution_count": 59,
      "outputs": []
    },
    {
      "cell_type": "markdown",
      "metadata": {
        "id": "RGGigZZiBxmu"
      },
      "source": [
        "## API Requests\n",
        " \n",
        "After I had the model in my hands I built the API and deployed into Heroku, a free cloud service that allow people to deploy their apps.\n",
        " \n",
        "I created a function to make the process easier."
      ]
    },
    {
      "cell_type": "code",
      "metadata": {
        "colab": {
          "base_uri": "https://localhost:8080/",
          "height": 79
        },
        "id": "IIVqmVpnCHIb",
        "outputId": "99685370-652b-483f-a9b2-84c90c30b383"
      },
      "source": [
        "def api_request(sample):\n",
        " \n",
        "   json = sample.to_json(orient = \"records\")\n",
        " \n",
        "   url = \"https://api-recommendation-engine.herokuapp.com/\"\n",
        "   data_ = json\n",
        "   headers = {\"Content-type\": \"application/json\"}\n",
        " \n",
        "   r = requests.post(url = url, data = data_, headers = headers)\n",
        " \n",
        "   df = pd.DataFrame(r.json(), columns = r.json()[0].keys())\n",
        "   return df\n",
        " \n",
        "sample = data.drop([\"rating\", \"title\"], axis = 1).sample()\n",
        "api_request(sample)"
      ],
      "execution_count": 67,
      "outputs": [
        {
          "output_type": "execute_result",
          "data": {
            "text/html": [
              "<div>\n",
              "<style scoped>\n",
              "    .dataframe tbody tr th:only-of-type {\n",
              "        vertical-align: middle;\n",
              "    }\n",
              "\n",
              "    .dataframe tbody tr th {\n",
              "        vertical-align: top;\n",
              "    }\n",
              "\n",
              "    .dataframe thead th {\n",
              "        text-align: right;\n",
              "    }\n",
              "</style>\n",
              "<table border=\"1\" class=\"dataframe\">\n",
              "  <thead>\n",
              "    <tr style=\"text-align: right;\">\n",
              "      <th></th>\n",
              "      <th>userId</th>\n",
              "      <th>movieId</th>\n",
              "      <th>user_rating</th>\n",
              "    </tr>\n",
              "  </thead>\n",
              "  <tbody>\n",
              "    <tr>\n",
              "      <th>0</th>\n",
              "      <td>104</td>\n",
              "      <td>471</td>\n",
              "      <td>3.598539</td>\n",
              "    </tr>\n",
              "  </tbody>\n",
              "</table>\n",
              "</div>"
            ],
            "text/plain": [
              "   userId  movieId  user_rating\n",
              "0     104      471     3.598539"
            ]
          },
          "metadata": {
            "tags": []
          },
          "execution_count": 67
        }
      ]
    }
  ]
}